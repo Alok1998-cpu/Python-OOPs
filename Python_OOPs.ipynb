{
  "nbformat": 4,
  "nbformat_minor": 0,
  "metadata": {
    "colab": {
      "provenance": []
    },
    "kernelspec": {
      "name": "python3",
      "display_name": "Python 3"
    },
    "language_info": {
      "name": "python"
    }
  },
  "cells": [
    {
      "cell_type": "code",
      "execution_count": null,
      "metadata": {
        "id": "xbrXfJ_-2mgs"
      },
      "outputs": [],
      "source": []
    },
    {
      "cell_type": "markdown",
      "source": [
        "Python OOPs\n",
        "\n"
      ],
      "metadata": {
        "id": "FjFQaAiT2tHn"
      }
    },
    {
      "cell_type": "markdown",
      "source": [
        "1-What is Object-Oriented Programming (OOP)?\n",
        "  \n",
        "   Object-Oriented Programming (OOP) is a programming paradigm that uses \"objects\" to design applications and computer programs. These objects are essentially data structures that contain both data (attributes) and the methods (functions) that operate on that data, bundling them together. This approach aims to model real-world entities and their interactions, promoting modularity, reusability, and maintainability of code.\n",
        "\n",
        "2-  What is a class in OOP ?\n",
        "      \n",
        "  Classes and Object Orientated programming (OOP) basics ...In object-oriented programming (OOP), a class is a blueprint or template for creating objects. It defines the structure and behavior (attributes and methods) that its objects will have, but it doesn't occupy memory itself. It's a user-defined data type that acts as a blueprint for creating objects.\n",
        "\n",
        "3- What is an object in OOP ?\n",
        "    \n",
        "   In object-oriented programming (OOP), an object is a fundamental building block. It's a self-contained unit that combines data (attributes or properties) and the operations (methods or functions) that can be performed on that data. Think of it as a real-world entity with characteristics and behaviors.\n",
        "\n",
        "4-  What is the difference between abstraction and encapsulation ?\n",
        "\n",
        "  Abstraction focuses on what an object does, hiding complex implementation details and exposing only necessary information, while encapsulation focuses on how an object's data and methods are bundled together and protected from outside access. Essentially, abstraction simplifies the user's view by hiding unnecessary complexities, whereas encapsulation protects the internal workings of an object.\n",
        "\n",
        "5-  What are dunder methods in Python ?\n",
        "\n",
        "  Dunder methods, also known as magic methods or special methods, are predefined methods in Python that are distinguished by having double underscores at both the beginning and end of their names (e.g., __init__, __str__, __add__). The term \"dunder\" is a contraction of \"double underscore.\"\n",
        "These methods allow classes to emulate the behavior of built-in types and operations, enabling custom objects to integrate seamlessly with Python's language constructs. When certain operations or built-in functions are applied to an object, Python automatically invokes the corresponding dunder method defined within that object's class.\n",
        "\n",
        "6- Explain the concept of inheritance in OOP ?\n",
        "\n",
        "In Object-Oriented Programming (OOP), inheritance is a mechanism that allows a new class (called a derived class or subclass) to inherit properties and behaviors (attributes and methods) from an existing class (called a base class or superclass). This promotes code reusability and establishes a hierarchical relationship between classes, where the derived class inherits from and can extend or modify the functionality of the base class.\n",
        "\n",
        "7-  What is polymorphism in OOP ?\n",
        "\n",
        "  In object-oriented programming (OOP), polymorphism refers to the ability of an object to take on many forms. It allows different objects to respond to the same method call in their own unique way, based on their specific class. This means a single method or function can be used with different object types, leading to more flexible and reusable code.\n",
        "\n",
        "8 - How is encapsulation achieved in Python ?\n",
        "\n",
        "  Encapsulation in Python is achieved through a combination of conventions and language features, though it differs from the strict access modifiers found in languages like Java.\n",
        "\n",
        "9 - What is a constructor in Python ?\n",
        "      In Python, a constructor is a special method used to initialize the attributes of an object when an instance of a class is created. Unlike some other programming languages where the constructor has the same name as the class, in Python, the constructor method is always named __init__.\n",
        "\n",
        "10 - What are class and static methods in Python ?\n",
        "\n",
        "  In Python, class methods and static methods are special types of methods within a class that differ from regular instance methods in how they interact with the class and its instances.\n",
        "\n",
        "11 - What is method overloading in Python ?\n",
        "\n",
        "  Method overloading in Python refers to the concept where a single method name can be used to perform different actions based on the number or type of arguments passed to it. Unlike some other object-oriented programming languages like Java or C++, Python does not support traditional method overloading where multiple methods with the exact same name but different parameter lists can exist within a single class.\n",
        "\n",
        " 12 - What is method overriding in OOP ?\n",
        "\n",
        "       Method overriding in Object-Oriented Programming (OOP) is a feature that allows a subclass (child class) to provide a specific implementation of a method that is already defined in its superclass (parent class). This enables polymorphism, allowing objects of the subclass to exhibit different behaviors than the superclass when that method is called.\n",
        "13 - What is a property decorator in Python ?\n",
        "\n",
        "  The property decorator in Python is a built-in decorator that transforms a method within a class into a \"property,\" allowing it to be accessed and modified like a regular attribute, while still enabling the execution of custom logic (such as validation, computation, or logging) during attribute access, modification, or deletion.\n",
        "\n",
        "14 -  Why is polymorphism important in OOP ?\n",
        "\n",
        "      Polymorphism is crucial in Object-Oriented Programming (OOP) because it enables a single action to be performed in multiple ways, leading to increased flexibility, code reusability, and maintainability. It allows objects of different classes to be treated as objects of a common type, promoting abstraction and simplifying code.\n",
        "\n",
        "\n",
        "15  - What is an abstract class in Python ?\n",
        "\n",
        " An abstract class in Python is a class that cannot be instantiated directly and serves as a blueprint for other classes. It is designed to be subclassed by other classes, which are then expected to provide concrete implementations for the abstract methods declared within the abstract class.\n",
        "\n",
        "\n",
        "16 - What are the advantages of OOP ?\n",
        "\n",
        "  Object-Oriented Programming (OOP) offers several advantages, primarily enhancing code organization, reusability, and maintainability. Key benefits include modularity, allowing for easier troubleshooting and collaborative development; code reusability through inheritance, reducing redundancy; and flexibility through polymorphism, enabling adaptable solutions. Additionally, OOP simplifies complex systems, improves code readability, and facilitates scalability and maintainability.\n",
        "\n",
        " 17- What is the difference between a class variable and an instance variable ?\n",
        "\n",
        "   Class and Instance Variables in PythonClass variables and instance variables differ in their scope and how they are accessed. Class variables are shared among all instances of a class, while instance variables are unique to each object (instance) of a class.\n",
        "\n",
        "\n",
        "18 - What is multiple inheritance in Python ?\n",
        "\n",
        "  Multiple inheritance in Python is a feature that allows a class to inherit attributes and methods from more than one parent (or base) class. This means a single child class can combine the functionalities and characteristics of multiple distinct parent classes.\n",
        "\n",
        "19 - Explain the purpose of ‘’__str__’ and ‘__repr__’ ‘ methods in Python ?\n",
        "\n",
        "  In Python, __str__ and __repr__ are special methods (often called \"dunder methods\" due to their double underscores) that define how an object is represented as a string. They serve different purposes and are intended for different audiences:\n",
        "__str__ (for str() and print()):\n",
        "Purpose: To provide a human-readable, informal, and user-friendly string representation of an object.\n",
        "Audience: Primarily intended for end-users or for logging purposes where readability is key.\n",
        "Usage: It is called by the built-in str() function and implicitly by the print() function.\n",
        "Output: Should be concise and easy to understand, potentially omitting some internal details for clarity.\n",
        "__repr__ (for repr() and interactive interpreter):\n",
        "Purpose: To provide an unambiguous, formal, and developer-friendly string representation of an object, ideally one that could be used to recreate the object.\n",
        "Audience: Primarily intended for developers, especially for debugging and introspection.\n",
        "Usage: It is called by the built-in repr() function and is also the default representation displayed when an object is evaluated in the interactive Python shell.\n",
        "Output: Should be detailed and precise, often including information about the object's type and its internal state, aiming to be unambiguous.\n",
        "Relationship: If __str__ is not defined for a class, the str() function will fall back to calling __repr__. However, repr() will always call __repr__ if it's defined. It is generally recommended to implement both methods to provide clear and useful string representations for both users and developers.\n",
        "\n",
        "20 -  What is the significance of the ‘super()’ function in Python ?\n",
        "\n",
        "  The super() function in Python holds significant importance within the context of object-oriented programming, particularly concerning inheritance. Its primary significance lies in enabling access to methods and properties of a parent or superclass from a child or subclass.\n",
        "Key significances of super():\n",
        "Method Overriding and Extension:\n",
        "super() facilitates method overriding while allowing the subclass to still leverage and extend the functionality of the overridden method in the parent class. This promotes code reuse and avoids redundant implementations.\n",
        "Proper Initialization in Inheritance Hierarchies:\n",
        "When used within the __init__() method of a subclass, super().__init__() ensures that the initialization logic of the parent class (and any classes higher in the Method Resolution Order) is executed correctly. This guarantees that all necessary attributes are set up as intended across the inheritance chain.\n",
        "Handling Multiple Inheritance:\n",
        "In scenarios involving multiple inheritance, super() plays a crucial role in managing the flow of execution and ensuring that all parent classes are initialized and their methods are called in the correct order, as determined by the Method Resolution Order (MRO). This prevents issues and promotes cooperative multiple inheritance.\n",
        "Avoiding Explicit Parent Class Naming:\n",
        "super() provides a more robust and flexible way to refer to parent classes compared to explicitly naming them. This makes code more adaptable to changes in the inheritance structure, as the reference to the parent class is dynamic based on the MRO.\n",
        "In essence, super() is a powerful tool for building well-structured and maintainable class hierarchies in Python, promoting code reusability, proper initialization, and effective management of complex inheritance patterns.\n",
        "\n",
        "21 - What is the significance of the __del__ method in Python ?\n",
        "\n",
        "  The __del__ method in Python, also known as the destructor, is a special method that is automatically called when an object is about to be garbage collected. Its primary significance lies in allowing for resource cleanup and finalization tasks before an object is completely removed from memory.\n",
        "Key aspects of __del__ significance:\n",
        "Resource Management:\n",
        "It provides a mechanism to release external resources held by an object, such as closing open files, network connections, database connections, or releasing locks, ensuring proper cleanup and preventing resource leaks.\n",
        "Finalization:\n",
        "It allows for any finalization logic to be executed before an object's memory is reclaimed. This could involve logging, performing last-minute calculations, or updating external states.\n",
        "Complement to __init__:\n",
        "While __init__ handles object initialization, __del__ serves as its counterpart for object destruction and cleanup.\n",
        "Important Considerations:\n",
        "Non-deterministic Execution:\n",
        "The __del__ method is called when the garbage collector determines an object is no longer referenced and can be removed. This timing is not strictly deterministic and can vary, making __del__ unsuitable for critical resource management where immediate release is required. For such cases, context managers (with statements) are generally preferred.\n",
        "Potential for Issues:\n",
        "Improper use of __del__ can lead to issues like circular references preventing garbage collection, or errors during cleanup if the environment is already in a state of shutdown.\n",
        "Alternatives:\n",
        "For reliable resource management, especially when dealing with external resources, using context managers with __enter__ and __exit__ methods is a more robust and recommended approach in Python.\n",
        "    \n",
        "22 - What is the difference between @staticmethod and @classmethod in Python ?\n",
        "\n",
        "  The primary difference between @staticmethod and @classmethod in Python lies in how they interact with the class and its instances:\n",
        "@classmethod:\n",
        "Takes the class itself as its first argument, conventionally named cls.\n",
        "Can access and modify class-level attributes and call other class methods.\n",
        "Often used for \"factory methods\" that create instances of the class with different initializations, or for methods that operate on the class state.\n",
        "\n",
        "23 - How does polymorphism work in Python with inheritance ?\n",
        "\n",
        " Polymorphism in Python, when combined with inheritance, allows objects of different classes that share a common parent to be treated uniformly through a common interface. This is primarily achieved through method overriding.\n",
        "\n",
        "24 - What is method chaining in Python OOP ?\n",
        "\n",
        "  Method chaining in Python Object-Oriented Programming (OOP) is a technique where multiple method calls are invoked sequentially on the same object in a single line of code. This is achieved by having each method in the chain return the object itself (self), allowing the next method call to operate directly on the modified or current state of that object.\n",
        "\n",
        "25 -  What is the purpose of the __call__ method in Python?\n",
        "\n",
        "  The __call__ method in Python serves the purpose of making instances of a class callable, allowing them to be invoked like functions. When an object of a class that defines __call__ is called using parentheses (e.g., obj()), the __call__ method of that object is automatically executed."
      ],
      "metadata": {
        "id": "9nLidJ143bnZ"
      }
    },
    {
      "cell_type": "code",
      "source": [],
      "metadata": {
        "id": "5aNZHLCZIN1K"
      },
      "execution_count": null,
      "outputs": []
    },
    {
      "cell_type": "markdown",
      "source": [
        "# Write a program to create an abstract class Shape with a method area(). Derive classes Circle and Rectangle\n",
        "from it and implement the area() method in both.\n",
        "\n"
      ],
      "metadata": {
        "id": "Y6OKx0OOIRoE"
      }
    },
    {
      "cell_type": "code",
      "source": [
        "from abc import ABC, abstractmethod\n",
        "import math\n",
        "\n",
        "class Shape(ABC):\n",
        "    @abstractmethod\n",
        "    def area(self):\n",
        "        pass\n",
        "\n",
        "class Circle(Shape):\n",
        "    def __init__(self, radius):\n",
        "        self.radius = radius\n",
        "\n",
        "    def area(self):\n",
        "        return math.pi * self.radius**2\n",
        "\n",
        "class Rectangle(Shape):\n",
        "    def __init__(self, length, width):\n",
        "        self.length = length\n",
        "        self.width = width\n",
        "\n",
        "    def area(self):\n",
        "        return self.length * self.width\n",
        "\n",
        "# Example usage\n",
        "circle = Circle(5)\n",
        "print(f\"Circle area: {circle.area()}\")\n",
        "\n",
        "rectangle = Rectangle(4, 6)\n",
        "print(f\"Rectangle area: {rectangle.area()}\")"
      ],
      "metadata": {
        "colab": {
          "base_uri": "https://localhost:8080/"
        },
        "id": "x964zIvWJDwe",
        "outputId": "bc0915cd-9e82-4de0-aec6-2404edfbd250"
      },
      "execution_count": 1,
      "outputs": [
        {
          "output_type": "stream",
          "name": "stdout",
          "text": [
            "Circle area: 78.53981633974483\n",
            "Rectangle area: 24\n"
          ]
        }
      ]
    },
    {
      "cell_type": "code",
      "source": [],
      "metadata": {
        "id": "DgLWmtwVIg4W"
      },
      "execution_count": null,
      "outputs": []
    },
    {
      "cell_type": "markdown",
      "source": [
        "# . Implement a multi-level inheritance scenario where a class Vehicle has an attribute type. Derive a class Car\n",
        "and further derive a class ElectricCar that adds a battery attribute"
      ],
      "metadata": {
        "id": "5WR0qz5iJlOr"
      }
    },
    {
      "cell_type": "code",
      "source": [
        "class Vehicle:\n",
        "    def __init__(self, type):\n",
        "        self.type = type\n",
        "\n",
        "class Car(Vehicle):\n",
        "    def __init__(self, type, model):\n",
        "        super().__init__(type)\n",
        "        self.model = model\n",
        "\n",
        "class ElectricCar(Car):\n",
        "    def __init__(self, type, model, battery):\n",
        "        super().__init__(type, model)\n",
        "        self.battery = battery\n",
        "\n",
        "# Example Usage\n",
        "my_vehicle = Vehicle(\"Car\")\n",
        "my_car = Car(\"Car\", \"Sedan\")\n",
        "my_electric_car = ElectricCar(\"Electric\", \"Tesla Model S\", \"85 kWh\")\n",
        "\n",
        "print(f\"Vehicle Type: {my_vehicle.type}\")\n",
        "print(f\"Car Model: {my_car.model}\")\n",
        "print(f\"Electric Car Type: {my_electric_car.type}, Model: {my_electric_car.model}, Battery: {my_electric_car.battery}\")"
      ],
      "metadata": {
        "colab": {
          "base_uri": "https://localhost:8080/"
        },
        "id": "RC7ty62OJp6x",
        "outputId": "dd243ebe-78c5-4b42-b1b4-3f8c66868352"
      },
      "execution_count": 2,
      "outputs": [
        {
          "output_type": "stream",
          "name": "stdout",
          "text": [
            "Vehicle Type: Car\n",
            "Car Model: Sedan\n",
            "Electric Car Type: Electric, Model: Tesla Model S, Battery: 85 kWh\n"
          ]
        }
      ]
    },
    {
      "cell_type": "code",
      "source": [],
      "metadata": {
        "id": "JjcEMCM0J5Cn"
      },
      "execution_count": null,
      "outputs": []
    },
    {
      "cell_type": "markdown",
      "source": [
        "# . Demonstrate polymorphism by creating a base class Bird with a method fly(). Create two derived classes\n",
        "Sparrow and Penguin that override the fly() method.\n"
      ],
      "metadata": {
        "id": "EH6c2IFMJ_-9"
      }
    },
    {
      "cell_type": "code",
      "source": [
        "class Bird:\n",
        "    def fly(self):\n",
        "        print(\"Bird is flying\")\n",
        "\n",
        "class Sparrow(Bird):\n",
        "    def fly(self):\n",
        "        print(\"Sparrow is flying\")\n",
        "\n",
        "class Penguin(Bird):\n",
        "    def fly(self):\n",
        "        print(\"Penguin cannot fly\")\n",
        "\n",
        "# Example Usage\n",
        "bird = Bird()\n",
        "sparrow = Sparrow()\n",
        "penguin = Penguin()\n",
        "\n",
        "bird.fly()\n",
        "sparrow.fly()\n",
        "penguin.fly()"
      ],
      "metadata": {
        "colab": {
          "base_uri": "https://localhost:8080/"
        },
        "id": "xDbQV1YpKDrN",
        "outputId": "e11df8a7-a90b-46a7-fe07-964fae63ed77"
      },
      "execution_count": 3,
      "outputs": [
        {
          "output_type": "stream",
          "name": "stdout",
          "text": [
            "Bird is flying\n",
            "Sparrow is flying\n",
            "Penguin cannot fly\n"
          ]
        }
      ]
    },
    {
      "cell_type": "code",
      "source": [],
      "metadata": {
        "id": "WafR2ZboKJlS"
      },
      "execution_count": null,
      "outputs": []
    },
    {
      "cell_type": "markdown",
      "source": [
        "# Write a program to demonstrate encapsulation by creating a class BankAccount with private attributes\n",
        "balance and methods to deposit, withdraw, and check balance."
      ],
      "metadata": {
        "id": "kLscWxOMKQRy"
      }
    },
    {
      "cell_type": "code",
      "source": [
        "class BankAccount:\n",
        "    \"\"\"\n",
        "    A class to represent a bank account with encapsulation.\n",
        "    \"\"\"\n",
        "\n",
        "    def __init__(self, initial_balance=0):\n",
        "        \"\"\"\n",
        "        Initializes the BankAccount with a private balance.\n",
        "        \"\"\"\n",
        "        self.__balance = initial_balance  # Private attribute\n",
        "\n",
        "    def deposit(self, amount):\n",
        "        \"\"\"\n",
        "        Deposits money into the account.\n",
        "        \"\"\"\n",
        "        if amount > 0:\n",
        "            self.__balance += amount\n",
        "            print(f\"Deposited ${amount}. New balance: ${self.__balance}\")\n",
        "        else:\n",
        "            print(\"Deposit amount must be positive.\")\n",
        "\n",
        "    def withdraw(self, amount):\n",
        "        \"\"\"\n",
        "        Withdraws money from the account.\n",
        "        \"\"\"\n",
        "        if amount > 0:\n",
        "            if amount <= self.__balance:\n",
        "                self.__balance -= amount\n",
        "                print(f\"Withdrew ${amount}. New balance: ${self.__balance}\")\n",
        "            else:\n",
        "                print(\"Insufficient funds.\")\n",
        "        else:\n",
        "            print(\"Withdrawal amount must be positive.\")\n",
        "\n",
        "    def get_balance(self):\n",
        "        \"\"\"\n",
        "        Returns the current balance.\n",
        "        \"\"\"\n",
        "        return self.__balance\n",
        "\n",
        "\n",
        "# Example usage\n",
        "account = BankAccount(100)  # Create an account with an initial balance of 100\n",
        "print(f\"Initial balance: ${account.get_balance()}\")\n",
        "\n",
        "account.deposit(50)  # Deposit 50\n",
        "account.withdraw(20)  # Withdraw 20\n",
        "account.withdraw(150) # Attempt to withdraw more than balance\n",
        "\n",
        "print(f\"Final balance: ${account.get_balance()}\")"
      ],
      "metadata": {
        "colab": {
          "base_uri": "https://localhost:8080/"
        },
        "id": "OcXb2hHMKSkx",
        "outputId": "6d10b57f-6580-4c39-d8c7-f14a469cc38a"
      },
      "execution_count": 4,
      "outputs": [
        {
          "output_type": "stream",
          "name": "stdout",
          "text": [
            "Initial balance: $100\n",
            "Deposited $50. New balance: $150\n",
            "Withdrew $20. New balance: $130\n",
            "Insufficient funds.\n",
            "Final balance: $130\n"
          ]
        }
      ]
    },
    {
      "cell_type": "code",
      "source": [],
      "metadata": {
        "id": "fCkcXBE_Ka-J"
      },
      "execution_count": null,
      "outputs": []
    },
    {
      "cell_type": "markdown",
      "source": [
        "# Create a class MathOperations with a class method add_numbers() to add two numbers and a static\n",
        "method subtract_numbers() to subtract two numbers"
      ],
      "metadata": {
        "id": "LEfmS1swKn0D"
      }
    },
    {
      "cell_type": "code",
      "source": [
        " class MathOperations:\n",
        "    @classmethod\n",
        "    def add_numbers(cls, num1, num2):\n",
        "        \"\"\"\n",
        "        Adds two numbers using a class method.\n",
        "        \"\"\"\n",
        "        return num1 + num2\n",
        "\n",
        "    @staticmethod\n",
        "    def subtract_numbers(num1, num2):\n",
        "        \"\"\"\n",
        "        Subtracts two numbers using a static method.\n",
        "        \"\"\"\n",
        "        return num1 - num2\n",
        "\n",
        "# Example usage:\n",
        "sum_result = MathOperations.add_numbers(10, 5)\n",
        "print(f\"Addition result: {sum_result}\")\n",
        "\n",
        "difference_result = MathOperations.subtract_numbers(10, 5)\n",
        "print(f\"Subtraction result: {difference_result}\")"
      ],
      "metadata": {
        "colab": {
          "base_uri": "https://localhost:8080/"
        },
        "id": "3TD-EQv1LtJ4",
        "outputId": "80de6cb8-6db0-44fa-a6e2-aad55feb49f0"
      },
      "execution_count": 7,
      "outputs": [
        {
          "output_type": "stream",
          "name": "stdout",
          "text": [
            "Addition result: 15\n",
            "Subtraction result: 5\n"
          ]
        }
      ]
    },
    {
      "cell_type": "code",
      "source": [
        "\n",
        "\n"
      ],
      "metadata": {
        "colab": {
          "base_uri": "https://localhost:8080/",
          "height": 106
        },
        "id": "6PndbYQHKqGL",
        "outputId": "0f4945d0-1bee-4774-8c99-9223aa0ed764"
      },
      "execution_count": 6,
      "outputs": [
        {
          "output_type": "error",
          "ename": "SyntaxError",
          "evalue": "unterminated string literal (detected at line 26) (ipython-input-6-699688926.py, line 26)",
          "traceback": [
            "\u001b[0;36m  File \u001b[0;32m\"/tmp/ipython-input-6-699688926.py\"\u001b[0;36m, line \u001b[0;32m26\u001b[0m\n\u001b[0;31m    myInstrument.play(); // Calls Guitar's play() method (runtime polymorphism)\u001b[0m\n\u001b[0m                                        ^\u001b[0m\n\u001b[0;31mSyntaxError\u001b[0m\u001b[0;31m:\u001b[0m unterminated string literal (detected at line 26)\n"
          ]
        }
      ]
    },
    {
      "cell_type": "markdown",
      "source": [
        "# Implement a class Person with a class method to count the total number of persons created."
      ],
      "metadata": {
        "id": "xFR1EmWhL6hl"
      }
    },
    {
      "cell_type": "code",
      "source": [
        "class Person:\n",
        "    \"\"\"\n",
        "    Represents a person with a count of all created person objects.\n",
        "    \"\"\"\n",
        "    _person_count = 0\n",
        "\n",
        "    def __init__(self, name):\n",
        "        \"\"\"\n",
        "        Initializes a new Person object.\n",
        "\n",
        "        Args:\n",
        "            name (str): The name of the person.\n",
        "        \"\"\"\n",
        "        self.name = name\n",
        "        Person._person_count += 1\n",
        "\n",
        "    @classmethod\n",
        "    def get_person_count(cls):\n",
        "        \"\"\"\n",
        "        Gets the total number of Person objects created.\n",
        "\n",
        "        Returns:\n",
        "            int: The total number of Person objects.\n",
        "        \"\"\"\n",
        "        return cls._person_count\n",
        "\n",
        "# Example usage\n",
        "person1 = Person(\"Alice\")\n",
        "person2 = Person(\"Bob\")\n",
        "person3 = Person(\"Charlie\")\n",
        "\n",
        "print(f\"Total number of persons created: {Person.get_person_count()}\") # Output: 3"
      ],
      "metadata": {
        "colab": {
          "base_uri": "https://localhost:8080/"
        },
        "id": "FGqzaIoIL9pw",
        "outputId": "a7f6419e-cbd2-44f9-b031-611f1a3f63ec"
      },
      "execution_count": 8,
      "outputs": [
        {
          "output_type": "stream",
          "name": "stdout",
          "text": [
            "Total number of persons created: 3\n"
          ]
        }
      ]
    },
    {
      "cell_type": "code",
      "source": [],
      "metadata": {
        "id": "WsfMLt2wKkPc"
      },
      "execution_count": null,
      "outputs": []
    },
    {
      "cell_type": "markdown",
      "source": [
        "#Write a class Fraction with attributes numerator and denominator. Override the str method to display the\n",
        "fraction as \"numerator/denominator\"."
      ],
      "metadata": {
        "id": "Izjm51VWMJdF"
      }
    },
    {
      "cell_type": "code",
      "source": [
        "class Fraction:\n",
        "    def __init__(self, numerator, denominator):\n",
        "        self.numerator = numerator\n",
        "        self.denominator = denominator\n",
        "\n",
        "    def __str__(self):\n",
        "        return f\"{self.numerator}/{self.denominator}\""
      ],
      "metadata": {
        "id": "aAIix7dbMW38"
      },
      "execution_count": 9,
      "outputs": []
    },
    {
      "cell_type": "code",
      "source": [],
      "metadata": {
        "id": "GFous2R5MboA"
      },
      "execution_count": null,
      "outputs": []
    },
    {
      "cell_type": "markdown",
      "source": [
        "# . Demonstrate operator overloading by creating a class Vector and overriding the add method to add two\n",
        "vectors."
      ],
      "metadata": {
        "id": "_uFOF5tUMiuf"
      }
    },
    {
      "cell_type": "code",
      "source": [
        "class Fraction:\n",
        "    def __init__(self, numerator, denominator):\n",
        "        self.numerator = numerator\n",
        "        self.denominator = denominator\n",
        "\n",
        "    def __str__(self):\n",
        "        return f\"{self.numerator}/{self.denominator}\""
      ],
      "metadata": {
        "id": "k8gsCQbuMlQY"
      },
      "execution_count": 10,
      "outputs": []
    },
    {
      "cell_type": "code",
      "source": [],
      "metadata": {
        "id": "O0KaOEFHMsqB"
      },
      "execution_count": null,
      "outputs": []
    },
    {
      "cell_type": "markdown",
      "source": [
        "#Implement a class Student with attributes name and grades. Create a method average_grade() to compute\n",
        "the average of the grades"
      ],
      "metadata": {
        "id": "cFm9V7qQMvW6"
      }
    },
    {
      "cell_type": "code",
      "source": [
        "class Student:\n",
        "    def __init__(self, name, grades):\n",
        "        \"\"\"\n",
        "        Initializes a Student object.\n",
        "\n",
        "        Args:\n",
        "            name (str): The name of the student.\n",
        "            grades (list): A list of numerical grades for the student.\n",
        "        \"\"\"\n",
        "        self.name = name\n",
        "        self.grades = grades\n",
        "\n",
        "    def average_grade(self):\n",
        "        \"\"\"\n",
        "        Calculates the average of the student's grades.\n",
        "\n",
        "        Returns:\n",
        "            float: The average grade, or 0 if no grades are available.\n",
        "        \"\"\"\n",
        "        if not self.grades:\n",
        "            return 0\n",
        "        return sum(self.grades) / len(self.grades)\n",
        "\n",
        "# Example usage:\n",
        "student1 = Student(\"Alice\", [85, 90, 78, 92])\n",
        "print(f\"{student1.name}'s average grade: {student1.average_grade()}\")\n",
        "\n",
        "student2 = Student(\"Bob\", [])\n",
        "print(f\"{student2.name}'s average grade: {student2.average_grade()}\")"
      ],
      "metadata": {
        "colab": {
          "base_uri": "https://localhost:8080/"
        },
        "id": "2k65LvABM8Aw",
        "outputId": "8d3b47ed-6909-4866-93a7-a365fb3413dd"
      },
      "execution_count": 11,
      "outputs": [
        {
          "output_type": "stream",
          "name": "stdout",
          "text": [
            "Alice's average grade: 86.25\n",
            "Bob's average grade: 0\n"
          ]
        }
      ]
    },
    {
      "cell_type": "code",
      "source": [],
      "metadata": {
        "id": "s2vkz7YFNBbb"
      },
      "execution_count": null,
      "outputs": []
    },
    {
      "cell_type": "markdown",
      "source": [
        "#  Create a class Rectangle with methods set_dimensions() to set the dimensions and area() to calculate the\n",
        "area."
      ],
      "metadata": {
        "id": "N-92hanhNNbR"
      }
    },
    {
      "cell_type": "code",
      "source": [
        "  class Rectangle:\n",
        "    \"\"\"\n",
        "    A class to represent a rectangle and calculate its area.\n",
        "    \"\"\"\n",
        "    def __init__(self):\n",
        "        \"\"\"\n",
        "        Initializes the Rectangle object with default dimensions (0, 0).\n",
        "        \"\"\"\n",
        "        self.length = 0\n",
        "        self.width = 0\n",
        "\n",
        "    def set_dimensions(self, length, width):\n",
        "        \"\"\"\n",
        "        Sets the length and width of the rectangle.\n",
        "\n",
        "        Args:\n",
        "            length (int or float): The length of the rectangle.\n",
        "            width (int or float): The width of the rectangle.\n",
        "        \"\"\"\n",
        "        self.length = length\n",
        "        self.width = width\n",
        "\n",
        "    def area(self):\n",
        "        \"\"\"\n",
        "        Calculates the area of the rectangle.\n",
        "\n",
        "        Returns:\n",
        "            int or float: The area of the rectangle.\n",
        "        \"\"\"\n",
        "        return self.length * self.width"
      ],
      "metadata": {
        "id": "AN4XJBfpNPa9"
      },
      "execution_count": 12,
      "outputs": []
    },
    {
      "cell_type": "code",
      "source": [],
      "metadata": {
        "id": "BVoDYQHzNYCl"
      },
      "execution_count": null,
      "outputs": []
    },
    {
      "cell_type": "markdown",
      "source": [
        "# Create a class Employee with a method calculate_salary() that computes the salary based on hours worked\n",
        "and hourly rate. Create a derived class Manager that adds a bonus to the salary"
      ],
      "metadata": {
        "id": "aiAc-80qNbAR"
      }
    },
    {
      "cell_type": "code",
      "source": [
        "class Employee:\n",
        "    def __init__(self, hourly_rate):\n",
        "        self.hourly_rate = hourly_rate\n",
        "\n",
        "    def calculate_salary(self, hours_worked):\n",
        "        return self.hourly_rate * hours_worked\n",
        "\n",
        "class Manager(Employee):\n",
        "    def __init__(self, hourly_rate, bonus):\n",
        "        super().__init__(hourly_rate)\n",
        "        self.bonus = bonus\n",
        "\n",
        "    def calculate_salary(self, hours_worked):\n",
        "        employee_salary = super().calculate_salary(hours_worked)\n",
        "        return employee_salary + self.bonus\n",
        "\n",
        "# Example usage\n",
        "employee = Employee(hourly_rate=25)\n",
        "manager = Manager(hourly_rate=30, bonus=1000)\n",
        "\n",
        "print(f\"Employee salary: ${employee.calculate_salary(40)}\")\n",
        "print(f\"Manager salary: ${manager.calculate_salary(40)}\")"
      ],
      "metadata": {
        "colab": {
          "base_uri": "https://localhost:8080/"
        },
        "id": "Pyf52-NCNhyY",
        "outputId": "7ec70725-b1f0-462b-d4f0-e26668f1bb92"
      },
      "execution_count": 13,
      "outputs": [
        {
          "output_type": "stream",
          "name": "stdout",
          "text": [
            "Employee salary: $1000\n",
            "Manager salary: $2200\n"
          ]
        }
      ]
    },
    {
      "cell_type": "code",
      "source": [],
      "metadata": {
        "id": "C5GKbKkPNm6s"
      },
      "execution_count": null,
      "outputs": []
    },
    {
      "cell_type": "markdown",
      "source": [
        "# Create a class Product with attributes name, price, and quantity. Implement a method total_price() that\n",
        "calculates the total price of the product.\n",
        "\n",
        "\n"
      ],
      "metadata": {
        "id": "O8Q6_DVoNu0U"
      }
    },
    {
      "cell_type": "code",
      "source": [
        "class Product:\n",
        "    def __init__(self, name, price, quantity):\n",
        "        \"\"\"\n",
        "        Initializes a Product object.\n",
        "\n",
        "        Args:\n",
        "            name (str): The name of the product.\n",
        "            price (float): The price of the product.\n",
        "            quantity (int): The quantity of the product.\n",
        "        \"\"\"\n",
        "        self.name = name\n",
        "        self.price = price\n",
        "        self.quantity = quantity\n",
        "\n",
        "    def total_price(self):\n",
        "        \"\"\"\n",
        "        Calculates the total price of the product.\n",
        "\n",
        "        Returns:\n",
        "            float: The total price (price * quantity).\n",
        "        \"\"\"\n",
        "        return self.price * self.quantity"
      ],
      "metadata": {
        "id": "VJqBearYNy4W"
      },
      "execution_count": 14,
      "outputs": []
    },
    {
      "cell_type": "code",
      "source": [],
      "metadata": {
        "id": "DNhU9rNeN5UH"
      },
      "execution_count": null,
      "outputs": []
    },
    {
      "cell_type": "markdown",
      "source": [
        "# Create a class Animal with an abstract method sound(). Create two derived classes Cow and Sheep that\n",
        "implement the sound() method."
      ],
      "metadata": {
        "id": "J6Lw_SicN_A_"
      }
    },
    {
      "cell_type": "code",
      "source": [
        "class Product:\n",
        "    def __init__(self, name, price, quantity):\n",
        "        \"\"\"\n",
        "        Initializes a Product object.\n",
        "\n",
        "        Args:\n",
        "            name (str): The name of the product.\n",
        "            price (float): The price of the product.\n",
        "            quantity (int): The quantity of the product.\n",
        "        \"\"\"\n",
        "        self.name = name\n",
        "        self.price = price\n",
        "        self.quantity = quantity\n",
        "\n",
        "    def total_price(self):\n",
        "        \"\"\"\n",
        "        Calculates the total price of the product.\n",
        "\n",
        "        Returns:\n",
        "            float: The total price (price * quantity).\n",
        "        \"\"\"\n",
        "        return self.price * self.quantity"
      ],
      "metadata": {
        "id": "ivAkAfJrOAg7"
      },
      "execution_count": 15,
      "outputs": []
    },
    {
      "cell_type": "code",
      "source": [],
      "metadata": {
        "id": "87dQdFioOEfi"
      },
      "execution_count": null,
      "outputs": []
    },
    {
      "cell_type": "markdown",
      "source": [
        "\n",
        "\n"
      ],
      "metadata": {
        "id": "lEVz-bvSOJhv"
      }
    },
    {
      "cell_type": "code",
      "source": [],
      "metadata": {
        "id": "-SC4AoDIOMGV"
      },
      "execution_count": null,
      "outputs": []
    }
  ]
}